{
  "nbformat": 4,
  "nbformat_minor": 0,
  "metadata": {
    "colab": {
      "provenance": []
    },
    "kernelspec": {
      "name": "python3",
      "display_name": "Python 3"
    },
    "language_info": {
      "name": "python"
    }
  },
  "cells": [
    {
      "cell_type": "markdown",
      "source": [],
      "metadata": {
        "id": "6XVknRHvQmTU"
      }
    },
    {
      "cell_type": "markdown",
      "source": [
        "ques1-**What is the difference between a function and a method in Python?**\n",
        "\n",
        "Answer- A function is a standalone block of code that performs a specific task, while a method is a function that is associated with an object or class, accessed using dot notation and implicitly passed the object as an argument."
      ],
      "metadata": {
        "id": "7gLOTt_sQppm"
      }
    },
    {
      "cell_type": "markdown",
      "source": [
        "ques 2-**Explain the concept of function arguments and parameters in Python.**\n",
        "\n",
        "Answer-  Function parameters are placeholders for values that a function expects as input, while arguments are the actual values passed to the function when it's called."
      ],
      "metadata": {
        "id": "NdIXgY63Q4RR"
      }
    },
    {
      "cell_type": "markdown",
      "source": [
        "Ques3 -**What are the different ways to define and call a function in Python?**\n",
        "\n",
        "Abswer- A function is called by **def** keyword and it is called by a name followed by parantheses(). Syntax-**def function()**\n",
        "here def is an initializing function  . () in this parantheses an argument is entered or a variable is passed."
      ],
      "metadata": {
        "id": "vARgHQKpRYyx"
      }
    },
    {
      "cell_type": "markdown",
      "source": [
        "ques 4-**What is the purpose of the `return` statement in a Python function?**\n",
        "\n",
        "Answer- It determines the value that the function wil return . If not, by default the function is returning none."
      ],
      "metadata": {
        "id": "NXnt86yGSXIX"
      }
    },
    {
      "cell_type": "markdown",
      "source": [
        "ques 5 -**What are iterators in Python and how do they differ from iterables?**\n",
        "\n",
        "Answer-An iterator is an object representing a stream of data and return the data one by one.An iterable is an objec that one can iterate over. it generates an iterator when passed to iter() oject .Every iterator is also an iterable, but not every iterable is an iterator in Python."
      ],
      "metadata": {
        "id": "7gGGBEKLTPwE"
      }
    },
    {
      "cell_type": "markdown",
      "source": [
        "ques 6-**. Explain the concept of generators in Python and how they are defined.**\n",
        "\n",
        "Answer- Generators  are a simple  wy to create a iterators using function.Genarators uses a yield keyword. they do not uses entire sequences in memory,making them suitable for large datasetsor infinite sequences.\n",
        "\n",
        "It uses the **Syntax Yield** making the codemore readable."
      ],
      "metadata": {
        "id": "meKT-hcJanNO"
      }
    },
    {
      "cell_type": "markdown",
      "source": [
        "ques7-**What are the advantages of using generators over regular functions**\n",
        "\n",
        "ANswer-Unlike a regular function, a generator does not return its results all at once. Instead, it yields its values one by one, each time it is called. This makes it possible to generate an infinite sequence of values, as long as there is sufficient memory to store them.\n"
      ],
      "metadata": {
        "id": "I0flNTFpdxRN"
      }
    },
    {
      "cell_type": "markdown",
      "source": [
        "ques 8-** What is a lambda function in Python and when is it typically used?**\n",
        "\n",
        "Answer- Lambda function is a small,anonymous or short hand function.It is defined by usinf Lambda function.\n",
        "\n",
        "It is used for creating small ,throwaway functions without the need  to formally define a function by using def"
      ],
      "metadata": {
        "id": "juwcIweneMlr"
      }
    },
    {
      "cell_type": "markdown",
      "source": [
        "ques 9-**Explain the purpose and usage of the `map()` function in Python**\n",
        "\n",
        "Answer-A map () function executes a specified function  to all items in an input iterable and returns an iterator with the results.\n",
        "Purpose: map() is used to apply a transformation (defined by a function) to every element of an iterable, creating a new iterable (an iterator) with the transformed values.\n",
        " It is used when you want to apply a single transformation function to all the iterable elements. The iterable and function are passed as arguments to the map in Python.\n",
        " syntax-map(function,iterable)"
      ],
      "metadata": {
        "id": "CuIDZl9FfQWr"
      }
    },
    {
      "cell_type": "markdown",
      "source": [
        "ques 10-**What is the difference between `map()`, `reduce()`, and `filter()` functions in Python?**\n",
        "\n",
        "Answer-The map function applies a given function to all items in an input iterable (like a list) and returns an iterator with the results.\n",
        "\n",
        "Syntax-map(function,iterable)\n",
        "\n",
        "The reduce function from the functools module applies a given function cumulatively to the items of a sequence, from left to right, to reduce the sequence to a single value.\n",
        "\n",
        "syntax-reduce(function,iteraable)\n",
        "\n",
        "The filter function constructs an iterator from elements of an iterable for which a specified function returns True.\n",
        "\n",
        "syntax-filter(function,iterable)"
      ],
      "metadata": {
        "id": "igGnqjYXgoHk"
      }
    },
    {
      "cell_type": "markdown",
      "source": [
        "11. **Using pen & Paper write the internal mechanism for sum operation using  reduce function on this given\n",
        "list:[47,11,42,13]**"
      ],
      "metadata": {
        "id": "nFRrXGu_wnRJ"
      }
    },
    {
      "cell_type": "code",
      "source": [
        "from google.colab import files\n",
        "from IPython.display import Image\n",
        "uploaded = files.upload()"
      ],
      "metadata": {
        "colab": {
          "base_uri": "https://localhost:8080/",
          "height": 73
        },
        "id": "IYuSKCpVy6SB",
        "outputId": "ed8e8667-526f-4891-b8d7-c8057f1bb780"
      },
      "execution_count": 72,
      "outputs": [
        {
          "output_type": "display_data",
          "data": {
            "text/plain": [
              "<IPython.core.display.HTML object>"
            ],
            "text/html": [
              "\n",
              "     <input type=\"file\" id=\"files-fe263295-156c-4d49-bc61-3c4a50a6c7be\" name=\"files[]\" multiple disabled\n",
              "        style=\"border:none\" />\n",
              "     <output id=\"result-fe263295-156c-4d49-bc61-3c4a50a6c7be\">\n",
              "      Upload widget is only available when the cell has been executed in the\n",
              "      current browser session. Please rerun this cell to enable.\n",
              "      </output>\n",
              "      <script>// Copyright 2017 Google LLC\n",
              "//\n",
              "// Licensed under the Apache License, Version 2.0 (the \"License\");\n",
              "// you may not use this file except in compliance with the License.\n",
              "// You may obtain a copy of the License at\n",
              "//\n",
              "//      http://www.apache.org/licenses/LICENSE-2.0\n",
              "//\n",
              "// Unless required by applicable law or agreed to in writing, software\n",
              "// distributed under the License is distributed on an \"AS IS\" BASIS,\n",
              "// WITHOUT WARRANTIES OR CONDITIONS OF ANY KIND, either express or implied.\n",
              "// See the License for the specific language governing permissions and\n",
              "// limitations under the License.\n",
              "\n",
              "/**\n",
              " * @fileoverview Helpers for google.colab Python module.\n",
              " */\n",
              "(function(scope) {\n",
              "function span(text, styleAttributes = {}) {\n",
              "  const element = document.createElement('span');\n",
              "  element.textContent = text;\n",
              "  for (const key of Object.keys(styleAttributes)) {\n",
              "    element.style[key] = styleAttributes[key];\n",
              "  }\n",
              "  return element;\n",
              "}\n",
              "\n",
              "// Max number of bytes which will be uploaded at a time.\n",
              "const MAX_PAYLOAD_SIZE = 100 * 1024;\n",
              "\n",
              "function _uploadFiles(inputId, outputId) {\n",
              "  const steps = uploadFilesStep(inputId, outputId);\n",
              "  const outputElement = document.getElementById(outputId);\n",
              "  // Cache steps on the outputElement to make it available for the next call\n",
              "  // to uploadFilesContinue from Python.\n",
              "  outputElement.steps = steps;\n",
              "\n",
              "  return _uploadFilesContinue(outputId);\n",
              "}\n",
              "\n",
              "// This is roughly an async generator (not supported in the browser yet),\n",
              "// where there are multiple asynchronous steps and the Python side is going\n",
              "// to poll for completion of each step.\n",
              "// This uses a Promise to block the python side on completion of each step,\n",
              "// then passes the result of the previous step as the input to the next step.\n",
              "function _uploadFilesContinue(outputId) {\n",
              "  const outputElement = document.getElementById(outputId);\n",
              "  const steps = outputElement.steps;\n",
              "\n",
              "  const next = steps.next(outputElement.lastPromiseValue);\n",
              "  return Promise.resolve(next.value.promise).then((value) => {\n",
              "    // Cache the last promise value to make it available to the next\n",
              "    // step of the generator.\n",
              "    outputElement.lastPromiseValue = value;\n",
              "    return next.value.response;\n",
              "  });\n",
              "}\n",
              "\n",
              "/**\n",
              " * Generator function which is called between each async step of the upload\n",
              " * process.\n",
              " * @param {string} inputId Element ID of the input file picker element.\n",
              " * @param {string} outputId Element ID of the output display.\n",
              " * @return {!Iterable<!Object>} Iterable of next steps.\n",
              " */\n",
              "function* uploadFilesStep(inputId, outputId) {\n",
              "  const inputElement = document.getElementById(inputId);\n",
              "  inputElement.disabled = false;\n",
              "\n",
              "  const outputElement = document.getElementById(outputId);\n",
              "  outputElement.innerHTML = '';\n",
              "\n",
              "  const pickedPromise = new Promise((resolve) => {\n",
              "    inputElement.addEventListener('change', (e) => {\n",
              "      resolve(e.target.files);\n",
              "    });\n",
              "  });\n",
              "\n",
              "  const cancel = document.createElement('button');\n",
              "  inputElement.parentElement.appendChild(cancel);\n",
              "  cancel.textContent = 'Cancel upload';\n",
              "  const cancelPromise = new Promise((resolve) => {\n",
              "    cancel.onclick = () => {\n",
              "      resolve(null);\n",
              "    };\n",
              "  });\n",
              "\n",
              "  // Wait for the user to pick the files.\n",
              "  const files = yield {\n",
              "    promise: Promise.race([pickedPromise, cancelPromise]),\n",
              "    response: {\n",
              "      action: 'starting',\n",
              "    }\n",
              "  };\n",
              "\n",
              "  cancel.remove();\n",
              "\n",
              "  // Disable the input element since further picks are not allowed.\n",
              "  inputElement.disabled = true;\n",
              "\n",
              "  if (!files) {\n",
              "    return {\n",
              "      response: {\n",
              "        action: 'complete',\n",
              "      }\n",
              "    };\n",
              "  }\n",
              "\n",
              "  for (const file of files) {\n",
              "    const li = document.createElement('li');\n",
              "    li.append(span(file.name, {fontWeight: 'bold'}));\n",
              "    li.append(span(\n",
              "        `(${file.type || 'n/a'}) - ${file.size} bytes, ` +\n",
              "        `last modified: ${\n",
              "            file.lastModifiedDate ? file.lastModifiedDate.toLocaleDateString() :\n",
              "                                    'n/a'} - `));\n",
              "    const percent = span('0% done');\n",
              "    li.appendChild(percent);\n",
              "\n",
              "    outputElement.appendChild(li);\n",
              "\n",
              "    const fileDataPromise = new Promise((resolve) => {\n",
              "      const reader = new FileReader();\n",
              "      reader.onload = (e) => {\n",
              "        resolve(e.target.result);\n",
              "      };\n",
              "      reader.readAsArrayBuffer(file);\n",
              "    });\n",
              "    // Wait for the data to be ready.\n",
              "    let fileData = yield {\n",
              "      promise: fileDataPromise,\n",
              "      response: {\n",
              "        action: 'continue',\n",
              "      }\n",
              "    };\n",
              "\n",
              "    // Use a chunked sending to avoid message size limits. See b/62115660.\n",
              "    let position = 0;\n",
              "    do {\n",
              "      const length = Math.min(fileData.byteLength - position, MAX_PAYLOAD_SIZE);\n",
              "      const chunk = new Uint8Array(fileData, position, length);\n",
              "      position += length;\n",
              "\n",
              "      const base64 = btoa(String.fromCharCode.apply(null, chunk));\n",
              "      yield {\n",
              "        response: {\n",
              "          action: 'append',\n",
              "          file: file.name,\n",
              "          data: base64,\n",
              "        },\n",
              "      };\n",
              "\n",
              "      let percentDone = fileData.byteLength === 0 ?\n",
              "          100 :\n",
              "          Math.round((position / fileData.byteLength) * 100);\n",
              "      percent.textContent = `${percentDone}% done`;\n",
              "\n",
              "    } while (position < fileData.byteLength);\n",
              "  }\n",
              "\n",
              "  // All done.\n",
              "  yield {\n",
              "    response: {\n",
              "      action: 'complete',\n",
              "    }\n",
              "  };\n",
              "}\n",
              "\n",
              "scope.google = scope.google || {};\n",
              "scope.google.colab = scope.google.colab || {};\n",
              "scope.google.colab._files = {\n",
              "  _uploadFiles,\n",
              "  _uploadFilesContinue,\n",
              "};\n",
              "})(self);\n",
              "</script> "
            ]
          },
          "metadata": {}
        },
        {
          "output_type": "stream",
          "name": "stdout",
          "text": [
            "Saving Question11-answer.png to Question11-answer.png\n"
          ]
        }
      ]
    },
    {
      "cell_type": "markdown",
      "source": [
        "**PRACTICAL QUESTIONS**"
      ],
      "metadata": {
        "id": "ZdKCnfWlkQ7z"
      }
    },
    {
      "cell_type": "markdown",
      "source": [
        "ques1-**Write a Python function that takes a list of numbers as input and returns the sum of all even numbers in\n",
        "the list.**"
      ],
      "metadata": {
        "id": "Vvkvy9jBLzP7"
      }
    },
    {
      "cell_type": "code",
      "execution_count": 71,
      "metadata": {
        "id": "HVRZ7RB4QhF3",
        "colab": {
          "base_uri": "https://localhost:8080/"
        },
        "outputId": "e6de8a95-0a56-4805-e063-1ef74c6b295d"
      },
      "outputs": [
        {
          "output_type": "stream",
          "name": "stdout",
          "text": [
            "sum of even numbers: 30\n"
          ]
        }
      ],
      "source": [
        "num_list =[1,2,3,4,5,6,7,8,9,10]\n",
        "def sum_of_even(numbers):\n",
        " return sum(num for num in numbers if num% 2 ==0)\n",
        "\n",
        "result = sum_of_even(num_list)\n",
        "print(\"sum of even numbers:\",result)"
      ]
    },
    {
      "cell_type": "markdown",
      "source": [
        "ques 2-**Create a Python function that accepts a string and returns the reverse of that string**\n",
        "\n"
      ],
      "metadata": {
        "id": "WlnSH0FdL67D"
      }
    },
    {
      "cell_type": "code",
      "source": [
        "text = \"Hello, world!\"\n",
        "def reverse_string(s):\n",
        "  return s[::-1]\n",
        "reversed_text = reverse_string(text)\n",
        "print(\"Reversed string:\",reverse_string(text))"
      ],
      "metadata": {
        "colab": {
          "base_uri": "https://localhost:8080/"
        },
        "id": "OJFABF1-MVCr",
        "outputId": "80d1c31c-b490-4650-c9e7-60b36005f17e"
      },
      "execution_count": 68,
      "outputs": [
        {
          "output_type": "stream",
          "name": "stdout",
          "text": [
            "Reversed string: !dlrow ,olleH\n"
          ]
        }
      ]
    },
    {
      "cell_type": "markdown",
      "source": [
        "ques 3-**implement a Python function that takes a list of integers and returns a new list containing the squares of\n",
        "each number.**"
      ],
      "metadata": {
        "id": "yPtr6OoqOjo-"
      }
    },
    {
      "cell_type": "code",
      "source": [
        "def square_list(nums):\n",
        "  return[num ** 2 for num in nums]\n",
        "numbers =[1,2,3,4,5]\n",
        "squared_numbers= square_list(numbers)\n",
        "print(squared_numbers)"
      ],
      "metadata": {
        "colab": {
          "base_uri": "https://localhost:8080/"
        },
        "id": "FP4TWyduOtLa",
        "outputId": "44e38eb3-5469-440a-bba0-46f98c8edf01"
      },
      "execution_count": 67,
      "outputs": [
        {
          "output_type": "stream",
          "name": "stdout",
          "text": [
            "[1, 4, 9, 16, 25]\n"
          ]
        }
      ]
    },
    {
      "cell_type": "markdown",
      "source": [
        "ques 4-**Write a Python function that checks if a given number is prime or not from 1 to 200**"
      ],
      "metadata": {
        "id": "kS4EybYNPnY6"
      }
    },
    {
      "cell_type": "code",
      "source": [
        "\n",
        "def is_prime(n):\n",
        "  if n<=1:\n",
        "    return False\n",
        "  for i in range(2,int(n**0.5)+1):\n",
        "    if n% i ==0:\n",
        "      return False\n",
        "  return True\n",
        "for num in range(1,201):\n",
        "  if is_prime(num):\n",
        "\n",
        "    print(f\"{num} is prime\")"
      ],
      "metadata": {
        "colab": {
          "base_uri": "https://localhost:8080/"
        },
        "id": "D--zubJ8PyPr",
        "outputId": "553a412d-86ac-4f2e-88a5-fd174ae6b9e5"
      },
      "execution_count": 20,
      "outputs": [
        {
          "output_type": "stream",
          "name": "stdout",
          "text": [
            "2 is prime\n",
            "3 is prime\n",
            "5 is prime\n",
            "7 is prime\n",
            "11 is prime\n",
            "13 is prime\n",
            "17 is prime\n",
            "19 is prime\n",
            "23 is prime\n",
            "29 is prime\n",
            "31 is prime\n",
            "37 is prime\n",
            "41 is prime\n",
            "43 is prime\n",
            "47 is prime\n",
            "53 is prime\n",
            "59 is prime\n",
            "61 is prime\n",
            "67 is prime\n",
            "71 is prime\n",
            "73 is prime\n",
            "79 is prime\n",
            "83 is prime\n",
            "89 is prime\n",
            "97 is prime\n",
            "101 is prime\n",
            "103 is prime\n",
            "107 is prime\n",
            "109 is prime\n",
            "113 is prime\n",
            "127 is prime\n",
            "131 is prime\n",
            "137 is prime\n",
            "139 is prime\n",
            "149 is prime\n",
            "151 is prime\n",
            "157 is prime\n",
            "163 is prime\n",
            "167 is prime\n",
            "173 is prime\n",
            "179 is prime\n",
            "181 is prime\n",
            "191 is prime\n",
            "193 is prime\n",
            "197 is prime\n",
            "199 is prime\n"
          ]
        }
      ]
    },
    {
      "cell_type": "markdown",
      "source": [
        "ques5. **Create an iterator class in Python that generates the Fibonacci sequence up to a specified number of\n",
        "terms.**"
      ],
      "metadata": {
        "id": "GbSneW9KSkc4"
      }
    },
    {
      "cell_type": "code",
      "source": [
        "def fib(n):\n",
        "  a=0\n",
        "  b=1\n",
        "  for i in range(n):\n",
        "     yield a\n",
        "     a,b=b, a+b\n",
        "f=fib(1000)\n",
        "f\n",
        "\n",
        "\n",
        "\n"
      ],
      "metadata": {
        "colab": {
          "base_uri": "https://localhost:8080/"
        },
        "id": "wWC9uKVnSphG",
        "outputId": "32e4e271-c774-49c0-a8eb-318f448626ec"
      },
      "execution_count": 65,
      "outputs": [
        {
          "output_type": "execute_result",
          "data": {
            "text/plain": [
              "<generator object fib at 0x7c35d5bbd990>"
            ]
          },
          "metadata": {},
          "execution_count": 65
        }
      ]
    },
    {
      "cell_type": "markdown",
      "source": [
        "ques 6-**Write a generator function in Python that yields the powers of 2 up to a given exponent**"
      ],
      "metadata": {
        "id": "w_SNdOkjVRqS"
      }
    },
    {
      "cell_type": "code",
      "source": [
        "def find_power(n):\n",
        "  for i in range(n+1):\n",
        "    yield 2**i\n",
        "exp=5\n",
        "for power in find_power(exp):\n",
        "  print(power)\n"
      ],
      "metadata": {
        "colab": {
          "base_uri": "https://localhost:8080/"
        },
        "id": "Yf-OwytjJS1m",
        "outputId": "41c9608d-d39e-4ad5-cdc6-7a449dbb43c3"
      },
      "execution_count": 47,
      "outputs": [
        {
          "output_type": "stream",
          "name": "stdout",
          "text": [
            "1\n",
            "2\n",
            "4\n",
            "8\n",
            "16\n",
            "32\n"
          ]
        }
      ]
    },
    {
      "cell_type": "markdown",
      "source": [],
      "metadata": {
        "id": "VsN9WU5MWQst"
      }
    },
    {
      "cell_type": "markdown",
      "source": [
        "ques 7-**Implement a generator function that reads a file line by line and yields each line as a string**"
      ],
      "metadata": {
        "id": "rjPBxnJoXOg6"
      }
    },
    {
      "cell_type": "code",
      "source": [
        "def read_file_line_by_line (file path):\n",
        "  with open (file path,'r') as file:\n",
        "\n"
      ],
      "metadata": {
        "id": "LJ2ReT6MYBLl"
      },
      "execution_count": null,
      "outputs": []
    },
    {
      "cell_type": "markdown",
      "source": [
        "ques 8-**Use a lambda function in Python to sort a list of tuples based on the second element of each tuple.**"
      ],
      "metadata": {
        "id": "waLApcYKZXA3"
      }
    },
    {
      "cell_type": "code",
      "source": [
        "tuple=[(1,2),(2,3),(4,6),(2,6),(9,3),(5,7)]\n",
        "sorted_list =sorted(tuple,key = lambda x:x[1])\n",
        "print(sorted_list)"
      ],
      "metadata": {
        "colab": {
          "base_uri": "https://localhost:8080/"
        },
        "id": "XGvhBDuxZhVP",
        "outputId": "35e12da7-c486-42e4-c8d5-7152db11e79b"
      },
      "execution_count": 48,
      "outputs": [
        {
          "output_type": "stream",
          "name": "stdout",
          "text": [
            "[(1, 2), (2, 3), (9, 3), (4, 6), (2, 6), (5, 7)]\n"
          ]
        }
      ]
    },
    {
      "cell_type": "markdown",
      "source": [
        "ques9-**Write a Python program that uses `map()` to convert a list of temperatures from Celsius to Fahrenheit.**"
      ],
      "metadata": {
        "id": "exUqEO16algg"
      }
    },
    {
      "cell_type": "code",
      "source": [
        "def celsius_to_fahrenheit(c):\n",
        "  return (c*9/5) +32\n",
        "celsius_temps =[0,12,32,17,45]\n",
        "\n",
        "fahrenheit_temps=list(map(celsius_to_fahrenheit,celsius_temps))\n",
        "print(\"celsius:\",celsius_temps)\n",
        "print(\"fahrenheit:\",fahrenheit_temps)\n"
      ],
      "metadata": {
        "colab": {
          "base_uri": "https://localhost:8080/"
        },
        "id": "KvjpbionVvKt",
        "outputId": "78fd37fe-59e7-4ac4-ad88-237feec37027"
      },
      "execution_count": 51,
      "outputs": [
        {
          "output_type": "stream",
          "name": "stdout",
          "text": [
            "celsius: [0, 12, 32, 17, 45]\n",
            "fahrenheit: [32.0, 53.6, 89.6, 62.6, 113.0]\n"
          ]
        }
      ]
    },
    {
      "cell_type": "markdown",
      "source": [
        "ques10-**Create a Python program that uses `filter()` to remove all the vowels from a given string.**"
      ],
      "metadata": {
        "id": "Gw2wUu73cE9r"
      }
    },
    {
      "cell_type": "code",
      "source": [
        "string=\"Umbrella\"\n",
        "vowels=\"aeiouUAEIO\"\n",
        "list(filter(lambda char:char not in vowels,string))\n"
      ],
      "metadata": {
        "colab": {
          "base_uri": "https://localhost:8080/"
        },
        "id": "qGsOM_xFcMdW",
        "outputId": "2c5410a8-7e6d-4254-dca3-31b79f2038f6"
      },
      "execution_count": 55,
      "outputs": [
        {
          "output_type": "execute_result",
          "data": {
            "text/plain": [
              "['m', 'b', 'r', 'l', 'l']"
            ]
          },
          "metadata": {},
          "execution_count": 55
        }
      ]
    },
    {
      "cell_type": "markdown",
      "source": [
        "ques 11-"
      ],
      "metadata": {
        "id": "g-JObsn0jFai"
      }
    },
    {
      "cell_type": "code",
      "source": [
        "orders=[(34587,40.95,4),(98762,56.80,5),(77226,32.95,3),(88112,24.99,3)]\n",
        "result=list(map(lambda x:(x[0] , x[1]*x[2]+(10 if x[1] *x[2]<100 else 0)),orders))\n",
        "print(result)"
      ],
      "metadata": {
        "colab": {
          "base_uri": "https://localhost:8080/"
        },
        "id": "BlfzV0NKjHan",
        "outputId": "ce054465-5395-4f06-d24e-151420fd4152"
      },
      "execution_count": 57,
      "outputs": [
        {
          "output_type": "stream",
          "name": "stdout",
          "text": [
            "[(34587, 163.8), (98762, 284.0), (77226, 108.85000000000001), (88112, 84.97)]\n"
          ]
        }
      ]
    },
    {
      "cell_type": "code",
      "source": [],
      "metadata": {
        "id": "HQnCoAM3lJUv"
      },
      "execution_count": null,
      "outputs": []
    },
    {
      "cell_type": "code",
      "source": [],
      "metadata": {
        "id": "Y65lrnOFbaZ4"
      },
      "execution_count": null,
      "outputs": []
    }
  ]
}